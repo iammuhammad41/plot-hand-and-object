{
 "cells": [
  {
   "cell_type": "code",
   "execution_count": 138,
   "id": "7444a623",
   "metadata": {},
   "outputs": [
    {
     "name": "stdout",
     "output_type": "stream",
     "text": [
      "Done: Number of lines: 0030\n",
      "\n"
     ]
    }
   ],
   "source": [
    "fileIn = 'D:\\Ali1\\subject_1\\object_pose\\object_pose0.txt'\n",
    "fileOut = 'D:\\Ali1\\subject_1\\object_pose\\object_pose1.txt'\n",
    "\n",
    "\n",
    "with open(fileIn, 'r+') as fpIn, open(fileOut, 'w') as fpOut:\n",
    "    for i, j in enumerate(fpIn):\n",
    "        counter_string = str(i)\n",
    "        counter_string = '0' * (4 - len(counter_string)) + counter_string\n",
    "\n",
    "        line = j.lstrip()  # Strip trailing spaces and newline\n",
    "        fpOut.write(\"{} \".format(counter_string))\n",
    "        fpOut.write(\"{}\\n\".format(line[5:-1]))\n",
    "        # Need \\n, which will be translated to platform-dependent newline\n",
    "    print(\"Done: Number of lines: {}\\n\".format(counter_string))"
   ]
  },
  {
   "cell_type": "code",
   "execution_count": null,
   "id": "ba55a730",
   "metadata": {},
   "outputs": [],
   "source": [
    "\n",
    "Hostname from Client: !hostname . OS !windowsversion\n",
    "and a CSV-Export from many clients:\n",
    "\n",
    "!hostname, !windowsversion\n",
    "exampleName, Windows10-Pro\n",
    "I'm just looking for a solution to replace the values(!) from template.txt with the columns/values from my CSV.\n",
    "\n",
    "The CSV-File contains many rows of client information and I need to put it in my template.txt file. I don't want to do it 200 times manually.\n",
    "\n",
    "So my goal is to convert the template.txt file to the following output:\n",
    "\n",
    "Hostname from Client: exampleName . OS Windows10-Pro\n",
    "Is there any option to automate it? I'm just thinking about using sed with regex and grep or something like that.\n",
    "\n",
    "from csv import reader, writer\n",
    "with open(\"csv-export.csv\") as f, open(\"template.txt\", 'w') as g:\n",
    "    reader_obj = reader(f)\n",
    "    writer_obj = writer(g)\n",
    "    # Skip header row.\n",
    "    next(reader_obj)\n",
    "    for row in reader_obj:\n",
    "        writer_obj.writerow([f'Hostname from Client: {row[0]} . OS{row[1]}'])\n",
    "Sample output in template.txt:\n",
    "\n",
    "Hostname from Client: exampleName . OS Windows10-Pro\n",
    "Hostname from Client: 2ndname . OS Windows-8\n",
    "Hostname from Client: 3rdname . OS Windows-XP"
   ]
  },
  {
   "cell_type": "code",
   "execution_count": 66,
   "id": "df597974",
   "metadata": {},
   "outputs": [
    {
     "name": "stdout",
     "output_type": "stream",
     "text": [
      "0346 -466.39581721155946 671.481616691051 -645.8452698368465 0.0 936.8155341107774 -264.26568123872954 -654.2079881649814 0.0 -814.7707407840421 -683.8908462427534 -393.53123050501546 0.0 34.973983112847925 65.53461212333694 513.7759946042337 1.0\n",
      "0\n",
      "0347 -489.9217062500859 692.1220825999017 -613.2777280005806 0.0 901.5286673304336 -250.70169203095293 -686.8503897693881 0.0 -840.3704515192462 -668.2412318842605 -389.99741624771315 0.0 35.27109319948116 68.90682403675024 515.2433266650935 1.0\n",
      "\n",
      "0347 -489.9217062500859 692.1220825999017 -613.2777280005806 0.0 901.5286673304336 -250.70169203095293 -686.8503897693881 0.0 -840.3704515192462 -668.2412318842605 -389.99741624771315 0.0 35.27109319948116 68.90682403675024 515.2433266650935 1.0\n",
      "00010\n",
      "0\n",
      "0348 -547.7034395660946 684.7271796127118 -594.1639714811186 0.0 823.1250266230581 -267.5250082526369 -735.0810829712709 0.0 -884.0169219857698 -669.3352998729291 -326.49037950735146 0.0 40.502143630597445 70.03652272162577 508.50029111209517 1.0\n",
      "\n",
      "0348 -547.7034395660946 684.7271796127118 -594.1639714811186 0.0 823.1250266230581 -267.5250082526369 -735.0810829712709 0.0 -884.0169219857698 -669.3352998729291 -326.49037950735146 0.0 40.502143630597445 70.03652272162577 508.50029111209517 1.0\n",
      "00010\n",
      "0\n",
      "0349 -411.37490488733425 817.7316044844437 -473.319870767949 0.0 991.1450424980862 -101.56552967138111 -652.6085299253559 0.0 -779.3599590968785 -556.2644305244299 -591.6429673319841 0.0 67.6631343462758 77.14881131559919 486.3272736953015 1.0\n",
      "\n",
      "0349 -411.37490488733425 817.7316044844437 -473.319870767949 0.0 991.1450424980862 -101.56552967138111 -652.6085299253559 0.0 -779.3599590968785 -556.2644305244299 -591.6429673319841 0.0 67.6631343462758 77.14881131559919 486.3272736953015 1.0\n",
      "00010\n",
      "1\n",
      "0350 -403.17233087984755 857.7740288562628 -400.4901864124633 0.0 981.3168488715103 -56.29509156490728 -665.8858345109434 0.0 -795.9076439362113 -499.4849191563157 -629.4240818997678 0.0 71.19003097961877 79.84213496081514 484.12200760430596 1.0\n",
      "\n",
      "0350 -403.17233087984755 857.7740288562628 -400.4901864124633 0.0 981.3168488715103 -56.29509156490728 -665.8858345109434 0.0 -795.9076439362113 -499.4849191563157 -629.4240818997678 0.0 71.19003097961877 79.84213496081514 484.12200760430596 1.0\n",
      "00011\n"
     ]
    }
   ],
   "source": [
    "# This must have the same number of values as lines in the file\n",
    "lineNumber = 0\n",
    "with open(\"D:\\Ali1\\subject_1\\object_pose\\object_pose0.txt\", \"r\") as f:\n",
    "    # skip the first line but output it?\n",
    "    print(f.readline().rstrip())\n",
    "    lineNumber += 1\n",
    "    # for i, j in enumerate(fileIn[0]):\n",
    "    counter_string = str(lineNumber)\n",
    "    counter_string = '0' * (4 - len(counter_string)) + counter_string\n",
    "    for value,line in zip(counter_string,f):\n",
    "        print(value)\n",
    "        print(line)\n",
    "        print(line.rstrip())\n",
    "        elements = line.split()\n",
    "        \n",
    "        print(\"{}{}\".format(counter_string,value,elements[0]))"
   ]
  },
  {
   "cell_type": "code",
   "execution_count": 63,
   "id": "268899b1",
   "metadata": {},
   "outputs": [
    {
     "name": "stdout",
     "output_type": "stream",
     "text": [
      "0346 -466.39581721155946 671.481616691051 -645.8452698368465 0.0 936.8155341107774 -264.26568123872954 -654.2079881649814 0.0 -814.7707407840421 -683.8908462427534 -393.53123050501546 0.0 34.973983112847925 65.53461212333694 513.7759946042337 1.0\n",
      "03472.3\n",
      "03481.2\n"
     ]
    }
   ],
   "source": [
    "# This must have the same number of values as lines in the file\n",
    "L = ['2.3','1.2']\n",
    "with open(\"D:\\Ali1\\subject_1\\object_pose\\object_pose0.txt\", \"r\") as f:\n",
    "    # skip the first line but output it?\n",
    "    print(f.readline().rstrip('\\n'))\n",
    "\n",
    "    for value,line in zip(L,f):\n",
    "        elements = line.split()\n",
    "        print(\"{}{}\".format(elements[0],value,elements[1]))"
   ]
  },
  {
   "cell_type": "code",
   "execution_count": 21,
   "id": "ddfb6ad4",
   "metadata": {},
   "outputs": [
    {
     "name": "stdout",
     "output_type": "stream",
     "text": [
      "['0020:1 \\n', '1501:1 \\n', '0052:1 \\n', '0033:1 \\n', '0014:1 \\n', '0055:1 \\n', '0076:1 \\n', '0037:1 \\n', '0028:1 \\n', '0049:1 \\n', '0110:1 \\n', '0211:1 \\n', '0312:1 \\n', '0413:1 \\n', '0514:1 \\n', '0515:1 \\n', '0616:1 \\n', '0017:1 \\n', '0718:1 \\n', '0819:1 \\n', '0920:1 \\n', '0921:1 \\n', '0822:1 \\n', '0723:1 \\n', '0624:1 \\n', '0525:1 \\n', '0426:1 \\n', '0627:1 \\n', '0328:1 \\n', '0829:1 \\n', '0774:2']\n",
      "0020:1 \n",
      "\n"
     ]
    }
   ],
   "source": [
    "import os\n",
    "from os import path\n",
    "import shutil\n",
    "import os\n",
    "import glob\n",
    "#rename the first column in the txt file\n",
    "\n",
    "label=[]\n",
    "value=[]\n",
    "\n",
    "file = 'D:\\Ali1\\subject_1\\grasp_class.txt'\n",
    "f = open(file, \"r\")\n",
    "lines = f.readlines()\n",
    "print(lines)\n",
    "print(lines[0])"
   ]
  },
  {
   "cell_type": "code",
   "execution_count": 46,
   "id": "c4d3b09c",
   "metadata": {},
   "outputs": [
    {
     "ename": "OSError",
     "evalue": "[Errno 22] Invalid argument: 'D:/Ali1/subject_1/object_pose/*.txt'",
     "output_type": "error",
     "traceback": [
      "\u001b[1;31m---------------------------------------------------------------------------\u001b[0m",
      "\u001b[1;31mOSError\u001b[0m                                   Traceback (most recent call last)",
      "Input \u001b[1;32mIn [46]\u001b[0m, in \u001b[0;36m<cell line: 3>\u001b[1;34m()\u001b[0m\n\u001b[0;32m      1\u001b[0m value\u001b[38;5;241m=\u001b[39m[]\n\u001b[0;32m      2\u001b[0m file \u001b[38;5;241m=\u001b[39m \u001b[38;5;124m'\u001b[39m\u001b[38;5;124mD:/Ali1/subject_1/object_pose/*.txt\u001b[39m\u001b[38;5;124m'\u001b[39m\n\u001b[1;32m----> 3\u001b[0m f \u001b[38;5;241m=\u001b[39m \u001b[38;5;28;43mopen\u001b[39;49m\u001b[43m(\u001b[49m\u001b[43mfile\u001b[49m\u001b[43m,\u001b[49m\u001b[43m \u001b[49m\u001b[38;5;124;43m\"\u001b[39;49m\u001b[38;5;124;43mr\u001b[39;49m\u001b[38;5;124;43m\"\u001b[39;49m\u001b[43m)\u001b[49m\n\u001b[0;32m      4\u001b[0m \u001b[38;5;28;01mif\u001b[39;00m file\u001b[38;5;241m.\u001b[39msplit(\u001b[38;5;124m'\u001b[39m\u001b[38;5;124m/\u001b[39m\u001b[38;5;124m'\u001b[39m)[\u001b[38;5;241m-\u001b[39m\u001b[38;5;241m1\u001b[39m] \u001b[38;5;241m==\u001b[39m \u001b[38;5;124m'\u001b[39m\u001b[38;5;124mobject_pose.txt\u001b[39m\u001b[38;5;124m'\u001b[39m:\n\u001b[0;32m      5\u001b[0m     \u001b[38;5;28;01mfor\u001b[39;00m i \u001b[38;5;129;01min\u001b[39;00m f\u001b[38;5;241m.\u001b[39mread()\u001b[38;5;241m.\u001b[39msplit(\u001b[38;5;124m'\u001b[39m\u001b[38;5;130;01m\\n\u001b[39;00m\u001b[38;5;124m'\u001b[39m):\n",
      "\u001b[1;31mOSError\u001b[0m: [Errno 22] Invalid argument: 'D:/Ali1/subject_1/object_pose/*.txt'"
     ]
    }
   ],
   "source": [
    "value=[]\n",
    "file = 'D:/Ali1/subject_1/object_pose/*.txt'\n",
    "f = open(file, \"r\")\n",
    "if file.split('/')[-1] == 'object_pose.txt':\n",
    "    for i in f.read().split('\\n'):\n",
    "        if i != '':\n",
    "            value.append(i.split())\n",
    "df=pd.DataFrame(value)\n",
    "\n",
    "print(df)\n",
    "\n",
    "print('First column', df[0])\n",
    "for i, j in enumerate(df[0]):\n",
    "    counter_string = str(i)\n",
    "    counter_string = '0' * (4 - len(counter_string)) + counter_string"
   ]
  },
  {
   "cell_type": "code",
   "execution_count": 39,
   "id": "e02ec4e2",
   "metadata": {},
   "outputs": [
    {
     "name": "stdout",
     "output_type": "stream",
     "text": [
      "Empty DataFrame\n",
      "Columns: []\n",
      "Index: []\n"
     ]
    },
    {
     "ename": "KeyError",
     "evalue": "0",
     "output_type": "error",
     "traceback": [
      "\u001b[1;31m---------------------------------------------------------------------------\u001b[0m",
      "\u001b[1;31mKeyError\u001b[0m                                  Traceback (most recent call last)",
      "File \u001b[1;32mC:\\ProgramData\\Anaconda3\\lib\\site-packages\\pandas\\core\\indexes\\base.py:3621\u001b[0m, in \u001b[0;36mIndex.get_loc\u001b[1;34m(self, key, method, tolerance)\u001b[0m\n\u001b[0;32m   3620\u001b[0m \u001b[38;5;28;01mtry\u001b[39;00m:\n\u001b[1;32m-> 3621\u001b[0m     \u001b[38;5;28;01mreturn\u001b[39;00m \u001b[38;5;28;43mself\u001b[39;49m\u001b[38;5;241;43m.\u001b[39;49m\u001b[43m_engine\u001b[49m\u001b[38;5;241;43m.\u001b[39;49m\u001b[43mget_loc\u001b[49m\u001b[43m(\u001b[49m\u001b[43mcasted_key\u001b[49m\u001b[43m)\u001b[49m\n\u001b[0;32m   3622\u001b[0m \u001b[38;5;28;01mexcept\u001b[39;00m \u001b[38;5;167;01mKeyError\u001b[39;00m \u001b[38;5;28;01mas\u001b[39;00m err:\n",
      "File \u001b[1;32mC:\\ProgramData\\Anaconda3\\lib\\site-packages\\pandas\\_libs\\index.pyx:136\u001b[0m, in \u001b[0;36mpandas._libs.index.IndexEngine.get_loc\u001b[1;34m()\u001b[0m\n",
      "File \u001b[1;32mC:\\ProgramData\\Anaconda3\\lib\\site-packages\\pandas\\_libs\\index.pyx:163\u001b[0m, in \u001b[0;36mpandas._libs.index.IndexEngine.get_loc\u001b[1;34m()\u001b[0m\n",
      "File \u001b[1;32mpandas\\_libs\\hashtable_class_helper.pxi:5198\u001b[0m, in \u001b[0;36mpandas._libs.hashtable.PyObjectHashTable.get_item\u001b[1;34m()\u001b[0m\n",
      "File \u001b[1;32mpandas\\_libs\\hashtable_class_helper.pxi:5206\u001b[0m, in \u001b[0;36mpandas._libs.hashtable.PyObjectHashTable.get_item\u001b[1;34m()\u001b[0m\n",
      "\u001b[1;31mKeyError\u001b[0m: 0",
      "\nThe above exception was the direct cause of the following exception:\n",
      "\u001b[1;31mKeyError\u001b[0m                                  Traceback (most recent call last)",
      "Input \u001b[1;32mIn [39]\u001b[0m, in \u001b[0;36m<cell line: 17>\u001b[1;34m()\u001b[0m\n\u001b[0;32m     13\u001b[0m df\u001b[38;5;241m=\u001b[39mpd\u001b[38;5;241m.\u001b[39mDataFrame(value)\n\u001b[0;32m     15\u001b[0m \u001b[38;5;28mprint\u001b[39m(df)\n\u001b[1;32m---> 17\u001b[0m \u001b[38;5;28mprint\u001b[39m(\u001b[38;5;124m'\u001b[39m\u001b[38;5;124mFirst column\u001b[39m\u001b[38;5;124m'\u001b[39m, \u001b[43mdf\u001b[49m\u001b[43m[\u001b[49m\u001b[38;5;241;43m0\u001b[39;49m\u001b[43m]\u001b[49m)\n\u001b[0;32m     18\u001b[0m \u001b[38;5;28mprint\u001b[39m(\u001b[38;5;124m'\u001b[39m\u001b[38;5;124mtotal rows\u001b[39m\u001b[38;5;124m'\u001b[39m, df[\u001b[38;5;241m0\u001b[39m]\u001b[38;5;241m.\u001b[39mvalue_counts())\n",
      "File \u001b[1;32mC:\\ProgramData\\Anaconda3\\lib\\site-packages\\pandas\\core\\frame.py:3505\u001b[0m, in \u001b[0;36mDataFrame.__getitem__\u001b[1;34m(self, key)\u001b[0m\n\u001b[0;32m   3503\u001b[0m \u001b[38;5;28;01mif\u001b[39;00m \u001b[38;5;28mself\u001b[39m\u001b[38;5;241m.\u001b[39mcolumns\u001b[38;5;241m.\u001b[39mnlevels \u001b[38;5;241m>\u001b[39m \u001b[38;5;241m1\u001b[39m:\n\u001b[0;32m   3504\u001b[0m     \u001b[38;5;28;01mreturn\u001b[39;00m \u001b[38;5;28mself\u001b[39m\u001b[38;5;241m.\u001b[39m_getitem_multilevel(key)\n\u001b[1;32m-> 3505\u001b[0m indexer \u001b[38;5;241m=\u001b[39m \u001b[38;5;28;43mself\u001b[39;49m\u001b[38;5;241;43m.\u001b[39;49m\u001b[43mcolumns\u001b[49m\u001b[38;5;241;43m.\u001b[39;49m\u001b[43mget_loc\u001b[49m\u001b[43m(\u001b[49m\u001b[43mkey\u001b[49m\u001b[43m)\u001b[49m\n\u001b[0;32m   3506\u001b[0m \u001b[38;5;28;01mif\u001b[39;00m is_integer(indexer):\n\u001b[0;32m   3507\u001b[0m     indexer \u001b[38;5;241m=\u001b[39m [indexer]\n",
      "File \u001b[1;32mC:\\ProgramData\\Anaconda3\\lib\\site-packages\\pandas\\core\\indexes\\base.py:3623\u001b[0m, in \u001b[0;36mIndex.get_loc\u001b[1;34m(self, key, method, tolerance)\u001b[0m\n\u001b[0;32m   3621\u001b[0m     \u001b[38;5;28;01mreturn\u001b[39;00m \u001b[38;5;28mself\u001b[39m\u001b[38;5;241m.\u001b[39m_engine\u001b[38;5;241m.\u001b[39mget_loc(casted_key)\n\u001b[0;32m   3622\u001b[0m \u001b[38;5;28;01mexcept\u001b[39;00m \u001b[38;5;167;01mKeyError\u001b[39;00m \u001b[38;5;28;01mas\u001b[39;00m err:\n\u001b[1;32m-> 3623\u001b[0m     \u001b[38;5;28;01mraise\u001b[39;00m \u001b[38;5;167;01mKeyError\u001b[39;00m(key) \u001b[38;5;28;01mfrom\u001b[39;00m \u001b[38;5;21;01merr\u001b[39;00m\n\u001b[0;32m   3624\u001b[0m \u001b[38;5;28;01mexcept\u001b[39;00m \u001b[38;5;167;01mTypeError\u001b[39;00m:\n\u001b[0;32m   3625\u001b[0m     \u001b[38;5;66;03m# If we have a listlike key, _check_indexing_error will raise\u001b[39;00m\n\u001b[0;32m   3626\u001b[0m     \u001b[38;5;66;03m#  InvalidIndexError. Otherwise we fall through and re-raise\u001b[39;00m\n\u001b[0;32m   3627\u001b[0m     \u001b[38;5;66;03m#  the TypeError.\u001b[39;00m\n\u001b[0;32m   3628\u001b[0m     \u001b[38;5;28mself\u001b[39m\u001b[38;5;241m.\u001b[39m_check_indexing_error(key)\n",
      "\u001b[1;31mKeyError\u001b[0m: 0"
     ]
    }
   ],
   "source": [
    "label=[]\n",
    "value=[]\n",
    "import pandas as pd\n",
    "for file in glob.glob('D:\\Ali1\\subject_1\\object_pose\\*.txt', recursive=True):\n",
    "    f = open(file, \"r\")\n",
    "    lines = f.readlines()\n",
    "    if file.split('\\\\')[-1] == 'object_pose.txt':\n",
    "        for i in f.read().split('\\n'):\n",
    "            if i != '':\n",
    "                value.append(i.split())\n",
    "\n",
    "\n",
    "df=pd.DataFrame(value)\n",
    "\n",
    "print(df)\n",
    "\n",
    "print('First column', df[0])\n",
    "print('total rows', df[0].value_counts())\n",
    "# for i, j in enumerate(df[0]):\n",
    "#     counter_string = str(i)\n",
    "#     counter_string = '0' * (4 - len(counter_string)) + counter_string\n",
    "\n",
    "# done = \"Operation successfully completed\"\n",
    "# # with open(file, 'r+') as f:\n",
    "# for line in df[0]:\n",
    "#     print(line)\n",
    "#     f.write(counter_string)\n",
    "#     print('Done please Check and confirm')"
   ]
  },
  {
   "cell_type": "code",
   "execution_count": 16,
   "id": "73f03210",
   "metadata": {},
   "outputs": [
    {
     "name": "stdout",
     "output_type": "stream",
     "text": [
      "['-141.66153', '-9.998588', '394.72665', '-133.87064', '-7.427409', '427.8455', '-72.66984', '-41.055912', '447.33875', '-48.94297', '-40.607174', '433.46628', '-44.944714', '-23.832956', '415.43765', '-46.020805', '-9.651786', '403.3408', '-111.965294', '6.972743', '445.32043', '-87.67845', '14.609046', '461.842', '-65.95447', '35.72215', '471.1827', '-41.45182', '-35.65874', '467.8932', '-31.57595', '-17.567366', '473.27042', '-23.695469', '3.1538029', '474.05573', '-16.20374', '-35.018436', '447.32553', '-9.994654', '-17.478168', '457.69427', '-20.032148', '0.9295968', '463.08768', '-23.845377', '-11.699398', '431.6078', '-20.992798', '7.578706', '445.0947', '-40.076103', '24.822876', '450.5276', '-32.306786', '-2.3251479', '416.02298', '-22.381763', '4.618617', '428.3229', '-25.399984', '18.096287', '430.8263']\n",
      "[-141.66153, -9.998588, 394.72665, -133.87064, -7.427409, 427.8455, -72.66984, -41.055912, 447.33875, -48.94297, -40.607174, 433.46628, -44.944714, -23.832956, 415.43765, -46.020805, -9.651786, 403.3408, -111.965294, 6.972743, 445.32043, -87.67845, 14.609046, 461.842, -65.95447, 35.72215, 471.1827, -41.45182, -35.65874, 467.8932, -31.57595, -17.567366, 473.27042, -23.695469, 3.1538029, 474.05573, -16.20374, -35.018436, 447.32553, -9.994654, -17.478168, 457.69427, -20.032148, 0.9295968, 463.08768, -23.845377, -11.699398, 431.6078, -20.992798, 7.578706, 445.0947, -40.076103, 24.822876, 450.5276, -32.306786, -2.3251479, 416.02298, -22.381763, 4.618617, 428.3229, -25.399984, 18.096287, 430.8263]\n",
      "[[[-141.66153, -9.998588, 394.72665, -133.87064, -7.427409, 427.8455, -72.66984, -41.055912, 447.33875, -48.94297, -40.607174, 433.46628, -44.944714, -23.832956, 415.43765, -46.020805, -9.651786, 403.3408, -111.965294, 6.972743, 445.32043, -87.67845, 14.609046, 461.842, -65.95447, 35.72215, 471.1827, -41.45182, -35.65874, 467.8932, -31.57595, -17.567366, 473.27042, -23.695469, 3.1538029, 474.05573, -16.20374, -35.018436, 447.32553, -9.994654, -17.478168, 457.69427, -20.032148, 0.9295968, 463.08768, -23.845377, -11.699398, 431.6078, -20.992798, 7.578706, 445.0947, -40.076103, 24.822876, 450.5276, -32.306786, -2.3251479, 416.02298, -22.381763, 4.618617, 428.3229, -25.399984, 18.096287, 430.8263]]]\n"
     ]
    }
   ],
   "source": [
    "import matplotlib.pyplot as plt\n",
    "\n",
    "hand_points='-141.66153 -9.998588 394.72665 -133.87064 -7.427409 427.8455 -72.66984 -41.055912 447.33875 -48.94297 -40.607174 433.46628 -44.944714 -23.832956 415.43765 -46.020805 -9.651786 403.3408 -111.965294 6.972743 445.32043 -87.67845 14.609046 461.842 -65.95447 35.72215 471.1827 -41.45182 -35.65874 467.8932 -31.57595 -17.567366 473.27042 -23.695469 3.1538029 474.05573 -16.20374 -35.018436 447.32553 -9.994654 -17.478168 457.69427 -20.032148 0.9295968 463.08768 -23.845377 -11.699398 431.6078 -20.992798 7.578706 445.0947 -40.076103 24.822876 450.5276 -32.306786 -2.3251479 416.02298 -22.381763 4.618617 428.3229 -25.399984 18.096287 430.8263'\n",
    "hand_points=hand_points.split()\n",
    "print(hand_points)\n",
    "# print('5')\n",
    "hand_points = [float(i) for i in hand_points]\n",
    "print(hand_points)\n",
    "test_out=' '\n",
    "hand_points = [[hand_points]]\n",
    "print(hand_points)\n",
    "# plt.plot(hand_points)"
   ]
  },
  {
   "cell_type": "code",
   "execution_count": 12,
   "id": "1bbcdc8f",
   "metadata": {},
   "outputs": [],
   "source": [
    "def plot_box(self, points):\n",
    "    # points[:, 0] = -points[:, 0]\n",
    "    points[:, 0] = points[:, 0]\n",
    "    points[:, 1] = points[:, 1]\n",
    "    points[:, 2] = points[:, 2]\n",
    "    xs = points[:, 0]\n",
    "    ys = points[:, 1]\n",
    "    zs = points[:, 2]\n",
    "    self.ax.scatter3D(xs, ys, zs)\n",
    "\n",
    "    for i, (x, y, z) in enumerate(points):\n",
    "        self.ax.text(x, y, z, str(i), color='red')\n",
    "\n",
    "    # lines (0,1), (1,2), (2,3), (3,0), (4,5), (5,6), (6,7), (7,4), (0,4), (1,5), (2,6), (3,7)\n",
    "    # list of sides' polygons of figure\n",
    "    verts = [[points[0], points[1], points[2], points[3]],\n",
    "                [points[4], points[5], points[6], points[7]],\n",
    "                [points[0], points[1], points[5], points[4]],\n",
    "                [points[2], points[3], points[7], points[6]],\n",
    "                [points[1], points[2], points[6], points[5]],\n",
    "                [points[4], points[7], points[3], points[0]]]\n",
    "\n",
    "    # plot sides\n",
    "    self.ax.add_collection3d(Poly3DCollection(verts, facecolors='cyan', linewidths=1, edgecolors='r', alpha=.25))"
   ]
  },
  {
   "cell_type": "code",
   "execution_count": 34,
   "id": "17e47b1f",
   "metadata": {},
   "outputs": [
    {
     "name": "stdout",
     "output_type": "stream",
     "text": [
      "1\n",
      "2\n",
      "3\n",
      "4\n"
     ]
    },
    {
     "data": {
      "image/png": "[encoded data removed]",
      "text/plain": [
       "<Figure size 432x288 with 1 Axes>"
      ]
     },
     "metadata": {
      "needs_background": "light"
     },
     "output_type": "display_data"
    },
    {
     "name": "stdout",
     "output_type": "stream",
     "text": [
      "5\n"
     ]
    }
   ],
   "source": [
    "import matplotlib.patches as patches      \n",
    "import matplotlib.pyplot as plt\n",
    "\n",
    "print('1')\n",
    "fig = plt.figure()\n",
    "print('2')\n",
    "ax = fig.add_subplot(111, projection='3d')\n",
    "print('3')\n",
    "\n",
    "print('4')\n",
    "xs = [50, 90, 90, 50, 50]\n",
    "ys = [100, 100, 130, 130, 100]\n",
    "# ax.plot(xs, ys, color=\"red\")\n",
    "ax.scatter(xs, ys)\n",
    "\n",
    "plt.show()\n",
    "print('5')"
   ]
  },
  {
   "cell_type": "code",
   "execution_count": 42,
   "id": "5c9b2fcc",
   "metadata": {},
   "outputs": [
    {
     "name": "stdout",
     "output_type": "stream",
     "text": [
      "[[215.7259259  141.40399187 489.0496521 ]\n",
      " [160.47842181 131.3281086  404.631073  ]\n",
      " [-33.61976662  82.21712725 486.91641235]\n",
      " [ 14.03531351 105.13278865 575.37866211]\n",
      " [211.47349966 170.5400719  476.8600769 ]\n",
      " [152.90002079 164.13732813 402.5093689 ]\n",
      " [-43.56918433 113.36347744 479.14526367]\n",
      " [ 10.98468994 134.33192458 560.79101562]]\n",
      "[[215.7259259  141.40399187 489.0496521 ]\n",
      " [160.47842181 131.3281086  404.631073  ]\n",
      " [-33.61976662  82.21712725 486.91641235]\n",
      " [ 14.03531351 105.13278865 575.37866211]\n",
      " [211.47349966 170.5400719  476.8600769 ]\n",
      " [152.90002079 164.13732813 402.5093689 ]\n",
      " [-43.56918433 113.36347744 479.14526367]\n",
      " [ 10.98468994 134.33192458 560.79101562]]\n"
     ]
    },
    {
     "data": {
      "image/png": "[encoded data removed]",
      "text/plain": [
       "<Figure size 432x288 with 1 Axes>"
      ]
     },
     "metadata": {
      "needs_background": "light"
     },
     "output_type": "display_data"
    }
   ],
   "source": [
    "import numpy as np\n",
    "from mpl_toolkits.mplot3d.art3d import Poly3DCollection, Line3DCollection\n",
    "import matplotlib.pyplot as plt\n",
    "# points = np.array([[-1, -1, -1],\n",
    "#                   [1, -1, -1 ],\n",
    "#                   [1, 1, -1],\n",
    "#                   [-1, 1, -1],\n",
    "#                   [-1, -1, 1],\n",
    "#                   [1, -1, 1 ],\n",
    "#                   [1, 1, 1],\n",
    "#                   [-1, 1, 1]])\n",
    "points = np.array([[215.7259259,  141.40399187, 489.0496521 ],\n",
    " [160.47842181, 131.3281086, 404.631073  ],\n",
    " [-33.61976662,  82.21712725, 486.91641235],\n",
    " [ 14.03531351, 105.13278865, 575.37866211],\n",
    " [211.47349966, 170.5400719, 476.8600769 ],\n",
    " [152.90002079, 164.13732813, 402.5093689 ],\n",
    " [-43.56918433, 113.36347744, 479.14526367],\n",
    " [ 10.98468994, 134.33192458, 560.79101562]])\n",
    "print(points)\n",
    "Z = points\n",
    "# Z = 10.0*Z\n",
    "print(Z)\n",
    "fig = plt.figure()\n",
    "ax = fig.add_subplot(111, projection='3d')\n",
    "r = [-1,1]\n",
    "X, Y = np.meshgrid(r, r)\n",
    "ax.scatter3D(Z[:, 0], Z[:, 1], Z[:, 2])\n",
    "verts = [[Z[0],Z[1],Z[2],Z[3]],\n",
    " [Z[4],Z[5],Z[6],Z[7]],\n",
    " [Z[0],Z[1],Z[5],Z[4]],\n",
    " [Z[2],Z[3],Z[7],Z[6]],\n",
    " [Z[1],Z[2],Z[6],Z[5]],\n",
    " [Z[4],Z[7],Z[3],Z[0]]]\n",
    "ax.add_collection3d(Poly3DCollection(verts, facecolors='red', linewidths=1, edgecolors='r', alpha=.20))\n",
    "ax.set_xlabel('X')\n",
    "ax.set_ylabel('Y')\n",
    "ax.set_zlabel('Z')\n",
    "plt.show()"
   ]
  },
  {
   "cell_type": "code",
   "execution_count": null,
   "id": "b03296d3",
   "metadata": {},
   "outputs": [],
   "source": []
  }
 ],
 "metadata": {
  "kernelspec": {
   "display_name": "Python 3 (ipykernel)",
   "language": "python",
   "name": "python3"
  },
  "language_info": {
   "codemirror_mode": {
    "name": "ipython",
    "version": 3
   },
   "file_extension": ".py",
   "mimetype": "text/x-python",
   "name": "python",
   "nbconvert_exporter": "python",
   "pygments_lexer": "ipython3",
   "version": "3.9.12"
  }
 },
 "nbformat": 4,
 "nbformat_minor": 5
}
